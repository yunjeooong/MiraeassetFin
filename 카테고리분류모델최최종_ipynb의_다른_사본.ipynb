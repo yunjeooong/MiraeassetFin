{
  "cells": [
    {
      "cell_type": "markdown",
      "metadata": {
        "id": "view-in-github",
        "colab_type": "text"
      },
      "source": [
        "<a href=\"https://colab.research.google.com/github/yunjeooong/MiraeassetFin/blob/main/%EC%B9%B4%ED%85%8C%EA%B3%A0%EB%A6%AC%EB%B6%84%EB%A5%98%EB%AA%A8%EB%8D%B8%EC%B5%9C%EC%B5%9C%EC%A2%85_ipynb%EC%9D%98_%EB%8B%A4%EB%A5%B8_%EC%82%AC%EB%B3%B8.ipynb\" target=\"_parent\"><img src=\"https://colab.research.google.com/assets/colab-badge.svg\" alt=\"Open In Colab\"/></a>"
      ]
    },
    {
      "cell_type": "code",
      "execution_count": null,
      "metadata": {
        "colab": {
          "base_uri": "https://localhost:8080/"
        },
        "id": "sreiuM3FuoWx",
        "outputId": "0de53425-9306-41ff-9566-3457efd9d966"
      },
      "outputs": [
        {
          "name": "stdout",
          "output_type": "stream",
          "text": [
            "Requirement already satisfied: konlpy in /usr/local/lib/python3.10/dist-packages (0.6.0)\n",
            "Requirement already satisfied: JPype1>=0.7.0 in /usr/local/lib/python3.10/dist-packages (from konlpy) (1.5.0)\n",
            "Requirement already satisfied: lxml>=4.1.0 in /usr/local/lib/python3.10/dist-packages (from konlpy) (4.9.4)\n",
            "Requirement already satisfied: numpy>=1.6 in /usr/local/lib/python3.10/dist-packages (from konlpy) (1.25.2)\n",
            "Requirement already satisfied: packaging in /usr/local/lib/python3.10/dist-packages (from JPype1>=0.7.0->konlpy) (24.1)\n"
          ]
        }
      ],
      "source": [
        "!pip install konlpy"
      ]
    },
    {
      "cell_type": "code",
      "execution_count": null,
      "metadata": {
        "id": "24FuU-LKEpIk"
      },
      "outputs": [],
      "source": [
        "import torch, gc\n",
        "gc.collect()\n",
        "torch.cuda.empty_cache()"
      ]
    },
    {
      "cell_type": "code",
      "execution_count": null,
      "metadata": {
        "colab": {
          "base_uri": "https://localhost:8080/"
        },
        "id": "JE30NEKQuzvH",
        "outputId": "72ed7217-d9cc-4df8-8310-06877a6f2d08"
      },
      "outputs": [
        {
          "name": "stdout",
          "output_type": "stream",
          "text": [
            "Requirement already satisfied: lime in /usr/local/lib/python3.10/dist-packages (0.2.0.1)\n",
            "Requirement already satisfied: matplotlib in /usr/local/lib/python3.10/dist-packages (from lime) (3.7.1)\n",
            "Requirement already satisfied: numpy in /usr/local/lib/python3.10/dist-packages (from lime) (1.25.2)\n",
            "Requirement already satisfied: scipy in /usr/local/lib/python3.10/dist-packages (from lime) (1.13.1)\n",
            "Requirement already satisfied: tqdm in /usr/local/lib/python3.10/dist-packages (from lime) (4.66.4)\n",
            "Requirement already satisfied: scikit-learn>=0.18 in /usr/local/lib/python3.10/dist-packages (from lime) (1.3.2)\n",
            "Requirement already satisfied: scikit-image>=0.12 in /usr/local/lib/python3.10/dist-packages (from lime) (0.23.2)\n",
            "Requirement already satisfied: networkx>=2.8 in /usr/local/lib/python3.10/dist-packages (from scikit-image>=0.12->lime) (3.3)\n",
            "Requirement already satisfied: pillow>=9.1 in /usr/local/lib/python3.10/dist-packages (from scikit-image>=0.12->lime) (9.4.0)\n",
            "Requirement already satisfied: imageio>=2.33 in /usr/local/lib/python3.10/dist-packages (from scikit-image>=0.12->lime) (2.34.2)\n",
            "Requirement already satisfied: tifffile>=2022.8.12 in /usr/local/lib/python3.10/dist-packages (from scikit-image>=0.12->lime) (2024.7.21)\n",
            "Requirement already satisfied: packaging>=21 in /usr/local/lib/python3.10/dist-packages (from scikit-image>=0.12->lime) (24.1)\n",
            "Requirement already satisfied: lazy-loader>=0.4 in /usr/local/lib/python3.10/dist-packages (from scikit-image>=0.12->lime) (0.4)\n",
            "Requirement already satisfied: joblib>=1.1.1 in /usr/local/lib/python3.10/dist-packages (from scikit-learn>=0.18->lime) (1.4.2)\n",
            "Requirement already satisfied: threadpoolctl>=2.0.0 in /usr/local/lib/python3.10/dist-packages (from scikit-learn>=0.18->lime) (3.5.0)\n",
            "Requirement already satisfied: contourpy>=1.0.1 in /usr/local/lib/python3.10/dist-packages (from matplotlib->lime) (1.2.1)\n",
            "Requirement already satisfied: cycler>=0.10 in /usr/local/lib/python3.10/dist-packages (from matplotlib->lime) (0.12.1)\n",
            "Requirement already satisfied: fonttools>=4.22.0 in /usr/local/lib/python3.10/dist-packages (from matplotlib->lime) (4.53.1)\n",
            "Requirement already satisfied: kiwisolver>=1.0.1 in /usr/local/lib/python3.10/dist-packages (from matplotlib->lime) (1.4.5)\n",
            "Requirement already satisfied: pyparsing>=2.3.1 in /usr/local/lib/python3.10/dist-packages (from matplotlib->lime) (3.1.2)\n",
            "Requirement already satisfied: python-dateutil>=2.7 in /usr/local/lib/python3.10/dist-packages (from matplotlib->lime) (2.8.2)\n",
            "Requirement already satisfied: six>=1.5 in /usr/local/lib/python3.10/dist-packages (from python-dateutil>=2.7->matplotlib->lime) (1.16.0)\n"
          ]
        }
      ],
      "source": [
        "!pip install lime"
      ]
    },
    {
      "cell_type": "code",
      "execution_count": null,
      "metadata": {
        "colab": {
          "base_uri": "https://localhost:8080/"
        },
        "id": "Ww7igrCguZP9",
        "outputId": "fa66eaf8-e0af-471b-df7d-99914d6724d7"
      },
      "outputs": [
        {
          "name": "stderr",
          "output_type": "stream",
          "text": [
            "[nltk_data] Downloading package wordnet to /root/nltk_data...\n",
            "[nltk_data]   Package wordnet is already up-to-date!\n"
          ]
        },
        {
          "data": {
            "text/plain": [
              "True"
            ]
          },
          "execution_count": 31,
          "metadata": {},
          "output_type": "execute_result"
        }
      ],
      "source": [
        "import pandas as pd\n",
        "import numpy as np\n",
        "import torch\n",
        "from torch.utils.data import Dataset, DataLoader\n",
        "from transformers import AutoTokenizer, AutoModelForSequenceClassification, get_linear_schedule_with_warmup\n",
        "from sklearn.model_selection import train_test_split\n",
        "from sklearn.metrics import accuracy_score, f1_score, confusion_matrix\n",
        "from imblearn.over_sampling import RandomOverSampler\n",
        "from tqdm import tqdm\n",
        "import seaborn as sns\n",
        "import matplotlib.pyplot as plt\n",
        "from konlpy.tag import Okt\n",
        "import os\n",
        "import random\n",
        "import nltk\n",
        "from nltk.corpus import wordnet\n",
        "from lime.lime_text import LimeTextExplainer\n",
        "\n",
        "nltk.download('wordnet')\n"
      ]
    },
    {
      "cell_type": "code",
      "execution_count": null,
      "metadata": {
        "id": "2Is4MOg6OHSL"
      },
      "outputs": [],
      "source": [
        "import pandas as pd\n",
        "from imblearn.combine import SMOTEENN\n",
        "from sklearn.model_selection import train_test_split\n",
        "import torch\n",
        "from torch.utils.data import Dataset, DataLoader\n",
        "from transformers import AutoTokenizer, AutoModelForSequenceClassification, get_linear_schedule_with_warmup\n",
        "from sklearn.metrics import accuracy_score, f1_score, confusion_matrix\n",
        "import seaborn as sns\n",
        "import matplotlib.pyplot as plt"
      ]
    },
    {
      "cell_type": "code",
      "execution_count": null,
      "metadata": {
        "id": "B9Yqweh7wJ0S"
      },
      "outputs": [],
      "source": [
        "from konlpy.tag import Okt"
      ]
    },
    {
      "cell_type": "code",
      "execution_count": null,
      "metadata": {
        "colab": {
          "base_uri": "https://localhost:8080/"
        },
        "id": "TH6NfaeGNk9A",
        "outputId": "4e53a619-11e6-48a7-bf7c-53b0c1fca445"
      },
      "outputs": [
        {
          "name": "stdout",
          "output_type": "stream",
          "text": [
            "데이터 로드\n"
          ]
        }
      ],
      "source": [
        "# 데이터 로드\n",
        "print(\"데이터 로드\")\n",
        "art_df = pd.read_excel('/content/preprocessed_article_df.xlsx', index_col=0)\n",
        "art_df.dropna(subset=['title', 'processed_text', 'section'], inplace=True)\n",
        "art_df['section'] = art_df['section'].astype(int)\n"
      ]
    },
    {
      "cell_type": "code",
      "execution_count": null,
      "metadata": {
        "colab": {
          "base_uri": "https://localhost:8080/"
        },
        "id": "k-bf2_mENwPA",
        "outputId": "8de74858-4b96-4fd0-dd11-02730c54b4f8"
      },
      "outputs": [
        {
          "name": "stdout",
          "output_type": "stream",
          "text": [
            "데이터 확인\n",
            "section\n",
            "4    243\n",
            "2    230\n",
            "1    184\n",
            "0    128\n",
            "3     94\n",
            "5     35\n",
            "Name: count, dtype: int64\n"
          ]
        }
      ],
      "source": [
        "# 데이터 확인\n",
        "print(\"데이터 확인\")\n",
        "print(art_df['section'].value_counts())\n"
      ]
    },
    {
      "cell_type": "code",
      "execution_count": null,
      "metadata": {
        "colab": {
          "base_uri": "https://localhost:8080/"
        },
        "id": "CpjVcGxWNucE",
        "outputId": "04493619-d6ba-463f-840d-71bef4ee5af9"
      },
      "outputs": [
        {
          "name": "stdout",
          "output_type": "stream",
          "text": [
            "데이터 분할\n",
            "클래스 분포 확인\n",
            "section\n",
            "4    194\n",
            "2    184\n",
            "1    147\n",
            "0    103\n",
            "3     75\n",
            "5     28\n",
            "Name: count, dtype: int64\n"
          ]
        }
      ],
      "source": [
        "# 데이터 분할\n",
        "print(\"데이터 분할\")\n",
        "train_df, test_df = train_test_split(art_df, test_size=0.2, random_state=42, stratify=art_df['section'])\n",
        "\n",
        "# 클래스 분포 확인\n",
        "print(\"클래스 분포 확인\")\n",
        "print(train_df['section'].value_counts())"
      ]
    },
    {
      "cell_type": "code",
      "execution_count": null,
      "metadata": {
        "colab": {
          "base_uri": "https://localhost:8080/"
        },
        "id": "oEEUxDPeDlcT",
        "outputId": "842d7ed6-9624-433f-9f47-4eb40f950f8f"
      },
      "outputs": [
        {
          "name": "stdout",
          "output_type": "stream",
          "text": [
            "Requirement already satisfied: imblearn in /usr/local/lib/python3.10/dist-packages (0.0)\n",
            "Requirement already satisfied: imbalanced-learn in /usr/local/lib/python3.10/dist-packages (from imblearn) (0.12.3)\n",
            "Requirement already satisfied: numpy>=1.17.3 in /usr/local/lib/python3.10/dist-packages (from imbalanced-learn->imblearn) (1.25.2)\n",
            "Requirement already satisfied: scipy>=1.5.0 in /usr/local/lib/python3.10/dist-packages (from imbalanced-learn->imblearn) (1.13.1)\n",
            "Requirement already satisfied: scikit-learn>=1.0.2 in /usr/local/lib/python3.10/dist-packages (from imbalanced-learn->imblearn) (1.3.2)\n",
            "Requirement already satisfied: joblib>=1.1.1 in /usr/local/lib/python3.10/dist-packages (from imbalanced-learn->imblearn) (1.4.2)\n",
            "Requirement already satisfied: threadpoolctl>=2.0.0 in /usr/local/lib/python3.10/dist-packages (from imbalanced-learn->imblearn) (3.5.0)\n"
          ]
        }
      ],
      "source": [
        "!pip install imblearn\n"
      ]
    },
    {
      "cell_type": "code",
      "execution_count": null,
      "metadata": {
        "colab": {
          "base_uri": "https://localhost:8080/"
        },
        "id": "q7jTHpo65L3i",
        "outputId": "4ffcd313-e304-4925-94dc-d8efb4923bc2"
      },
      "outputs": [
        {
          "name": "stdout",
          "output_type": "stream",
          "text": [
            "Requirement already satisfied: googletrans in /usr/local/lib/python3.10/dist-packages (3.0.0)\n",
            "Requirement already satisfied: httpx==0.13.3 in /usr/local/lib/python3.10/dist-packages (from googletrans) (0.13.3)\n",
            "Requirement already satisfied: certifi in /usr/local/lib/python3.10/dist-packages (from httpx==0.13.3->googletrans) (2024.7.4)\n",
            "Requirement already satisfied: hstspreload in /usr/local/lib/python3.10/dist-packages (from httpx==0.13.3->googletrans) (2024.7.1)\n",
            "Requirement already satisfied: sniffio in /usr/local/lib/python3.10/dist-packages (from httpx==0.13.3->googletrans) (1.3.1)\n",
            "Requirement already satisfied: chardet==3.* in /usr/local/lib/python3.10/dist-packages (from httpx==0.13.3->googletrans) (3.0.4)\n",
            "Requirement already satisfied: idna==2.* in /usr/local/lib/python3.10/dist-packages (from httpx==0.13.3->googletrans) (2.10)\n",
            "Requirement already satisfied: rfc3986<2,>=1.3 in /usr/local/lib/python3.10/dist-packages (from httpx==0.13.3->googletrans) (1.5.0)\n",
            "Requirement already satisfied: httpcore==0.9.* in /usr/local/lib/python3.10/dist-packages (from httpx==0.13.3->googletrans) (0.9.1)\n",
            "Requirement already satisfied: h11<0.10,>=0.8 in /usr/local/lib/python3.10/dist-packages (from httpcore==0.9.*->httpx==0.13.3->googletrans) (0.9.0)\n",
            "Requirement already satisfied: h2==3.* in /usr/local/lib/python3.10/dist-packages (from httpcore==0.9.*->httpx==0.13.3->googletrans) (3.2.0)\n",
            "Requirement already satisfied: hyperframe<6,>=5.2.0 in /usr/local/lib/python3.10/dist-packages (from h2==3.*->httpcore==0.9.*->httpx==0.13.3->googletrans) (5.2.0)\n",
            "Requirement already satisfied: hpack<4,>=3.0 in /usr/local/lib/python3.10/dist-packages (from h2==3.*->httpcore==0.9.*->httpx==0.13.3->googletrans) (3.0.0)\n"
          ]
        }
      ],
      "source": [
        "!pip install googletrans"
      ]
    },
    {
      "cell_type": "code",
      "execution_count": null,
      "metadata": {
        "id": "PfQ8RoK8u9CP"
      },
      "outputs": [],
      "source": [
        "import random\n",
        "from googletrans import Translator\n",
        "from konlpy.tag import Okt\n"
      ]
    },
    {
      "cell_type": "code",
      "execution_count": null,
      "metadata": {
        "id": "J4FtQ3g4vhiv"
      },
      "outputs": [],
      "source": [
        "okt = Okt()\n",
        "translator = Translator()\n",
        "\n",
        "def get_synonyms(word):\n",
        "    synonyms = set()\n",
        "    for syn in wordnet.synsets(word):\n",
        "        for l in syn.lemmas():\n",
        "            synonyms.add(l.name())\n",
        "    return list(synonyms)\n",
        "\n",
        "def synonym_replacement(words, n):\n",
        "    new_words = words.copy()\n",
        "    random_word_list = list(set([word for word in words if len(get_synonyms(word)) > 0]))\n",
        "    random.shuffle(random_word_list)\n",
        "    num_replaced = 0\n",
        "    for random_word in random_word_list:\n",
        "        synonyms = get_synonyms(random_word)\n",
        "        if len(synonyms) >= 1:\n",
        "            synonym = random.choice(synonyms)\n",
        "            new_words = [synonym if word == random_word else word for word in new_words]\n",
        "            num_replaced += 1\n",
        "        if num_replaced >= n:\n",
        "            break\n",
        "    return new_words\n",
        "\n",
        "def random_deletion(words, p):\n",
        "    if len(words) == 1:\n",
        "        return words\n",
        "    new_words = []\n",
        "    for word in words:\n",
        "        r = random.uniform(0, 1)\n",
        "        if r > p:\n",
        "            new_words.append(word)\n",
        "    if len(new_words) == 0:\n",
        "        rand_int = random.randint(0, len(words)-1)\n",
        "        return [words[rand_int]]\n",
        "    return new_words\n",
        "\n",
        "def random_swap(words, n):\n",
        "    new_words = words.copy()\n",
        "    for _ in range(n):\n",
        "        if len(new_words) >= 2:\n",
        "            idx1, idx2 = random.sample(range(len(new_words)), 2)\n",
        "            new_words[idx1], new_words[idx2] = new_words[idx2], new_words[idx1]\n",
        "    return new_words\n",
        "\n",
        "def back_translation(text):\n",
        "    try:\n",
        "        en_text = translator.translate(text, src='ko', dest='en').text\n",
        "        return translator.translate(en_text, src='en', dest='ko').text\n",
        "    except:\n",
        "        return text\n",
        "\n",
        "def change_ending(text):\n",
        "    # 간단한 어미 변형 (존댓말 <-> 반말)\n",
        "    endings = {\n",
        "        '합니다': '해요',\n",
        "        '습니다': '어요',\n",
        "        '었습니다': '었어요',\n",
        "        '니다': '어요'\n",
        "    }\n",
        "    for end, replacement in endings.items():\n",
        "        if text.endswith(end):\n",
        "            return text[:-len(end)] + replacement\n",
        "    return text\n",
        "\n",
        "def augment(text, num_aug=4):\n",
        "    words = okt.morphs(text)\n",
        "    augmented_texts = []\n",
        "\n",
        "    for _ in range(num_aug):\n",
        "        aug_type = random.randint(0, 4)\n",
        "\n",
        "        if aug_type == 0:  # 동의어 대체\n",
        "            a_words = synonym_replacement(words, n=int(len(words)*0.1))\n",
        "        elif aug_type == 1:  # 무작위 삭제\n",
        "            a_words = random_deletion(words, p=0.1)\n",
        "        elif aug_type == 2:  # 무작위 순서 변경\n",
        "            a_words = random_swap(words, n=int(len(words)*0.1))\n",
        "        elif aug_type == 3:  # 백트랜슬레이션\n",
        "            a_words = okt.morphs(back_translation(text))\n",
        "        else:  # 어미 변형\n",
        "            a_words = okt.morphs(change_ending(text))\n",
        "\n",
        "        augmented_texts.append(' '.join(a_words))\n",
        "\n",
        "    return augmented_texts\n"
      ]
    },
    {
      "cell_type": "code",
      "execution_count": null,
      "metadata": {
        "colab": {
          "base_uri": "https://localhost:8080/"
        },
        "id": "zXGaAGY-N8YT",
        "outputId": "9b0b71d3-6116-4985-93c2-14d215b3025d"
      },
      "outputs": [
        {
          "name": "stdout",
          "output_type": "stream",
          "text": [
            "언더샘플링 후 클래스 분포 확인\n",
            "section\n",
            "4    970\n",
            "2    920\n",
            "1    735\n",
            "0    515\n",
            "3    375\n",
            "5    308\n",
            "Name: count, dtype: int64\n"
          ]
        }
      ],
      "source": [
        "\n",
        "\n",
        "# 데이터 증강 수행\n",
        "augmented_texts = []\n",
        "augmented_labels = []\n",
        "\n",
        "for index, row in train_df.iterrows():\n",
        "    if row['section'] == 5:\n",
        "        augmented_texts.append(row['processed_text'])\n",
        "        augmented_labels.append(row['section'])\n",
        "        augmented_texts.extend(augment(row['processed_text'], num_aug=10))  # 증강 비율 조절\n",
        "        augmented_labels.extend([row['section']] * 10)\n",
        "    else:\n",
        "        augmented_texts.append(row['processed_text'])\n",
        "        augmented_labels.append(row['section'])\n",
        "        augmented_texts.extend(augment(row['processed_text']))\n",
        "        augmented_labels.extend([row['section']] * 4)\n",
        "\n",
        "augmented_df = pd.DataFrame({'processed_text': augmented_texts, 'section': augmented_labels})\n",
        "\n",
        "# 언더샘플링 제거\n",
        "balanced_df = augmented_df\n",
        "\n",
        "# 언더샘플링 후 클래스 분포 확인\n",
        "print(\"언더샘플링 후 클래스 분포 확인\")\n",
        "print(balanced_df['section'].value_counts())\n",
        "\n",
        "# 클래스 가중치 계산\n",
        "class_counts = balanced_df['section'].value_counts().sort_index()\n",
        "total_samples = sum(class_counts)\n",
        "class_weights = [total_samples/class_counts[i] for i in range(len(class_counts))]"
      ]
    },
    {
      "cell_type": "code",
      "execution_count": null,
      "metadata": {
        "colab": {
          "base_uri": "https://localhost:8080/"
        },
        "id": "HV28x5t606ND",
        "outputId": "71bdcf04-20c2-4ea3-9de1-0675eb42ad61"
      },
      "outputs": [
        {
          "name": "stdout",
          "output_type": "stream",
          "text": [
            "                                         processed_text  section\n",
            "0     파리 연합뉴스 김도훈 기자 현지 시간 프랑스 파리 사우스 파리 아레나 유빈 코치 이...        4\n",
            "1     파리 연합뉴스 김도훈 기자 현지 시간 프랑스 파리 사우스 파리 아레나 유빈 코치 이...        4\n",
            "2     파리 연합뉴스 김도훈 기자 현지 시간 프랑스 파리 사우스 파리 아레나 유빈 코치 이...        4\n",
            "3     파리 연합뉴스 김도훈 있다 현지 시간 프랑스 파리 사우스 파리 아레나 유빈 코치 이...        4\n",
            "4     파리 연합뉴스 김도훈 기자 현지 시간 프랑스 파리 사우스 파리 아레나 유빈 코치 이...        4\n",
            "...                                                 ...      ...\n",
            "3818  미국 재무부 시간 북한 탄도 미사일 군사위성 개발 지원 중국 기업 곳 중국인 명 새...        4\n",
            "3819  미국 재무부 시간 북한 탄도 미사일 군사위성 개발 지원 중국 기업 곳 중국인 명 새...        4\n",
            "3820  미국 재무부 시간 북한 탄도 미사일 군사위성 개발 지원 중국 기업 곳 중국인 명 새...        4\n",
            "3821  미국 재무부 시간 북한 탄도 미사일 군사위성 개발 지원 기업 곳 중국인 명 새롭다 ...        4\n",
            "3822  미국 재무부 확산 북한 탄도 미사일 군사위성 개발 등 중국 기업 곳 해당 명 산 제...        4\n",
            "\n",
            "[3823 rows x 2 columns]\n"
          ]
        }
      ],
      "source": [
        "print(balanced_df)"
      ]
    },
    {
      "cell_type": "code",
      "execution_count": null,
      "metadata": {
        "id": "_woGveaaujQh"
      },
      "outputs": [],
      "source": [
        "# 데이터셋 및 데이터로더 정의\n",
        "# Dataset 클래스 정의\n",
        "class NewsDataset(Dataset):\n",
        "    def __init__(self, texts, labels, tokenizer, max_len):\n",
        "        self.texts = texts\n",
        "        self.labels = labels\n",
        "        self.tokenizer = tokenizer\n",
        "        self.max_len = max_len\n",
        "\n",
        "    def __len__(self):\n",
        "        return len(self.texts)\n",
        "\n",
        "    def __getitem__(self, idx):\n",
        "        text = str(self.texts[idx])\n",
        "        label = int(self.labels[idx])\n",
        "\n",
        "        encoding = self.tokenizer.encode_plus(\n",
        "            text,\n",
        "            add_special_tokens=True,\n",
        "            max_length=self.max_len,\n",
        "            return_token_type_ids=False,\n",
        "            padding='max_length',\n",
        "            truncation=True,\n",
        "            return_attention_mask=True,\n",
        "            return_tensors='pt',\n",
        "        )\n",
        "\n",
        "        return {\n",
        "            'text': text,\n",
        "            'input_ids': encoding['input_ids'].flatten(),\n",
        "            'attention_mask': encoding['attention_mask'].flatten(),\n",
        "            'labels': torch.tensor(label, dtype=torch.long)\n",
        "        }\n",
        "\n",
        "# 데이터로더 생성 함수 정의\n",
        "def create_data_loader(df, tokenizer, max_len, batch_size):\n",
        "    ds = NewsDataset(\n",
        "        texts=df.processed_text.to_numpy(),\n",
        "        labels=df.section.to_numpy(),\n",
        "        tokenizer=tokenizer,\n",
        "        max_len=max_len\n",
        "    )\n",
        "\n",
        "    return DataLoader(\n",
        "        ds,\n",
        "        batch_size=batch_size,\n",
        "        num_workers=4\n",
        "    )\n"
      ]
    },
    {
      "cell_type": "code",
      "execution_count": null,
      "metadata": {
        "id": "MzGiCtORGHXm"
      },
      "outputs": [],
      "source": [
        "def create_data_loader(df, tokenizer, max_len, batch_size):\n",
        "    ds = NewsDataset(\n",
        "        texts=df.processed_text.to_numpy(),\n",
        "        labels=df.section.to_numpy(),\n",
        "        tokenizer=tokenizer,\n",
        "        max_len=max_len\n",
        "    )\n",
        "\n",
        "    return DataLoader(\n",
        "        ds,\n",
        "        batch_size=batch_size,\n",
        "        num_workers=8\n",
        "    )"
      ]
    },
    {
      "cell_type": "code",
      "execution_count": null,
      "metadata": {
        "id": "93vc9RGEunWD"
      },
      "outputs": [],
      "source": [
        "# 학습 및 평가 함수 정의\n",
        "def train_epoch(model, data_loader, loss_fn, optimizer, device, scheduler, n_examples, accumulation_steps=4):\n",
        "    model = model.train()\n",
        "    losses = []\n",
        "    correct_predictions = 0\n",
        "\n",
        "    for i, d in enumerate(tqdm(data_loader)):\n",
        "        input_ids = d[\"input_ids\"].to(device)\n",
        "        attention_mask = d[\"attention_mask\"].to(device)\n",
        "        labels = d[\"labels\"].to(device)\n",
        "\n",
        "        outputs = model(input_ids=input_ids, attention_mask=attention_mask, labels=labels)\n",
        "        loss = outputs.loss\n",
        "        logits = outputs.logits\n",
        "\n",
        "        loss = loss / accumulation_steps\n",
        "        loss.backward()\n",
        "\n",
        "        if (i + 1) % accumulation_steps == 0:\n",
        "            optimizer.step()\n",
        "            scheduler.step()\n",
        "            optimizer.zero_grad()\n",
        "\n",
        "        _, preds = torch.max(logits, dim=1)\n",
        "        correct_predictions += torch.sum(preds == labels)\n",
        "        losses.append(loss.item() * accumulation_steps)\n",
        "\n",
        "    return correct_predictions.double() / n_examples, np.mean(losses)\n",
        "def eval_model(model, data_loader, loss_fn, device, n_examples):\n",
        "    model = model.eval()\n",
        "    losses = []\n",
        "    correct_predictions = 0\n",
        "\n",
        "    with torch.no_grad():\n",
        "        for d in tqdm(data_loader):\n",
        "            input_ids = d[\"input_ids\"].to(device)\n",
        "            attention_mask = d[\"attention_mask\"].to(device)\n",
        "            labels = d[\"labels\"].to(device)\n",
        "\n",
        "            outputs = model(\n",
        "                input_ids=input_ids,\n",
        "                attention_mask=attention_mask,\n",
        "                labels=labels\n",
        "            )\n",
        "\n",
        "            loss = outputs.loss\n",
        "            logits = outputs.logits\n",
        "\n",
        "            _, preds = torch.max(logits, dim=1)\n",
        "            correct_predictions += torch.sum(preds == labels)\n",
        "            losses.append(loss.item())\n",
        "\n",
        "    return correct_predictions.double() / n_examples, np.mean(losses)\n"
      ]
    },
    {
      "cell_type": "code",
      "execution_count": null,
      "metadata": {
        "id": "kbts8G34xXbL"
      },
      "outputs": [],
      "source": [
        "# 모델 훈련 및 평가 함수\n",
        "def train_model(train_loader, test_loader, model_name, num_epochs=5, batch_size=16, patience=2):\n",
        "    device = torch.device(\"cuda\" if torch.cuda.is_available() else \"cpu\")\n",
        "    model = AutoModelForSequenceClassification.from_pretrained(model_name, num_labels=len(set(balanced_df['section'])))\n",
        "    model = model.to(device)\n",
        "\n",
        "    optimizer = torch.optim.AdamW(model.parameters(), lr=2e-5, weight_decay=0.01)  # L2 정규화 추가\n",
        "    total_steps = len(train_loader) * num_epochs\n",
        "    scheduler = get_linear_schedule_with_warmup(optimizer, num_warmup_steps=0, num_training_steps=total_steps)\n",
        "    loss_fn = torch.nn.CrossEntropyLoss().to(device)\n",
        "\n",
        "    best_accuracy = 0\n",
        "    epochs_no_improve = 0\n",
        "    early_stop = False\n",
        "\n",
        "    for epoch in range(num_epochs):\n",
        "        print(f'Epoch {epoch + 1}/{num_epochs}')\n",
        "        train_acc, train_loss = train_epoch(model, train_loader, loss_fn, optimizer, device, scheduler, len(train_loader.dataset))\n",
        "        print(f'Train loss {train_loss} accuracy {train_acc}')\n",
        "\n",
        "        val_acc, val_loss = eval_model(model, test_loader, loss_fn, device, len(test_loader.dataset))\n",
        "        print(f'Val loss {val_loss} accuracy {val_acc}')\n",
        "\n",
        "        if val_acc > best_accuracy:\n",
        "            best_accuracy = val_acc\n",
        "            epochs_no_improve = 0\n",
        "        else:\n",
        "            epochs_no_improve += 1\n",
        "            if epochs_no_improve >= patience:\n",
        "                early_stop = True\n",
        "                print(\"Early stopping\")\n",
        "\n",
        "        if early_stop:\n",
        "            break\n",
        "\n",
        "    return model\n",
        "\n"
      ]
    },
    {
      "cell_type": "code",
      "execution_count": null,
      "metadata": {
        "id": "ziCGMKawydj-"
      },
      "outputs": [],
      "source": [
        "# 앙상블 예측 함수\n",
        "def ensemble_predict_weighted(models, tokenizers, test_df, device, max_len=256, batch_size=8):\n",
        "    all_predictions = []\n",
        "    for model, tokenizer in zip(models, tokenizers):\n",
        "        test_data_loader = create_data_loader(test_df, tokenizer, max_len, batch_size)\n",
        "        model = model.eval()\n",
        "        predictions = []\n",
        "        with torch.no_grad():\n",
        "            for d in tqdm(test_data_loader):\n",
        "                input_ids = d[\"input_ids\"].to(device)\n",
        "                attention_mask = d[\"attention_mask\"].to(device)\n",
        "                outputs = model(input_ids=input_ids, attention_mask=attention_mask)\n",
        "                predictions.extend(torch.softmax(outputs.logits, dim=1).cpu().numpy())\n",
        "        all_predictions.append(predictions)\n",
        "\n",
        "    ensemble_preds = np.mean(all_predictions, axis=0)\n",
        "    return np.argmax(ensemble_preds, axis=1)"
      ]
    },
    {
      "cell_type": "code",
      "execution_count": null,
      "metadata": {
        "colab": {
          "background_save": true,
          "base_uri": "https://localhost:8080/"
        },
        "id": "hGwmvFIOzfwn",
        "outputId": "34e6279a-313c-42fa-c375-6d6f0a387858"
      },
      "outputs": [
        {
          "name": "stdout",
          "output_type": "stream",
          "text": [
            "GPU 메모리 해제\n",
            "CUDA 정보\n",
            "CUDA available: True\n",
            "CUDA version: 12.1\n",
            "Training klue/roberta-base...\n"
          ]
        },
        {
          "name": "stderr",
          "output_type": "stream",
          "text": [
            "Some weights of RobertaForSequenceClassification were not initialized from the model checkpoint at klue/roberta-base and are newly initialized: ['classifier.dense.bias', 'classifier.dense.weight', 'classifier.out_proj.bias', 'classifier.out_proj.weight']\n",
            "You should probably TRAIN this model on a down-stream task to be able to use it for predictions and inference.\n"
          ]
        },
        {
          "name": "stdout",
          "output_type": "stream",
          "text": [
            "Epoch 1/10\n"
          ]
        },
        {
          "name": "stderr",
          "output_type": "stream",
          "text": [
            "100%|██████████| 239/239 [01:22<00:00,  2.90it/s]\n"
          ]
        },
        {
          "name": "stdout",
          "output_type": "stream",
          "text": [
            "Train loss 1.3101216817750092 accuracy 0.5550614700496992\n"
          ]
        },
        {
          "name": "stderr",
          "output_type": "stream",
          "text": [
            "100%|██████████| 12/12 [00:01<00:00,  6.83it/s]\n"
          ]
        },
        {
          "name": "stdout",
          "output_type": "stream",
          "text": [
            "Val loss 0.7478949700792631 accuracy 0.7650273224043715\n",
            "Epoch 2/10\n"
          ]
        },
        {
          "name": "stderr",
          "output_type": "stream",
          "text": [
            "100%|██████████| 239/239 [01:22<00:00,  2.91it/s]\n"
          ]
        },
        {
          "name": "stdout",
          "output_type": "stream",
          "text": [
            "Train loss 0.7731921804998709 accuracy 0.7664138111430813\n"
          ]
        },
        {
          "name": "stderr",
          "output_type": "stream",
          "text": [
            "100%|██████████| 12/12 [00:01<00:00,  6.64it/s]\n"
          ]
        },
        {
          "name": "stdout",
          "output_type": "stream",
          "text": [
            "Val loss 0.7111943612496058 accuracy 0.7978142076502732\n",
            "Epoch 3/10\n"
          ]
        },
        {
          "name": "stderr",
          "output_type": "stream",
          "text": [
            "100%|██████████| 239/239 [01:22<00:00,  2.91it/s]\n"
          ]
        },
        {
          "name": "stdout",
          "output_type": "stream",
          "text": [
            "Train loss 0.5865336151240261 accuracy 0.8200366204551399\n"
          ]
        },
        {
          "name": "stderr",
          "output_type": "stream",
          "text": [
            "100%|██████████| 12/12 [00:01<00:00,  6.83it/s]\n"
          ]
        },
        {
          "name": "stdout",
          "output_type": "stream",
          "text": [
            "Val loss 0.6522307582199574 accuracy 0.8087431693989071\n",
            "Epoch 4/10\n"
          ]
        },
        {
          "name": "stderr",
          "output_type": "stream",
          "text": [
            "100%|██████████| 239/239 [01:21<00:00,  2.92it/s]\n"
          ]
        },
        {
          "name": "stdout",
          "output_type": "stream",
          "text": [
            "Train loss 0.4758961187465171 accuracy 0.8624117185456447\n"
          ]
        },
        {
          "name": "stderr",
          "output_type": "stream",
          "text": [
            "100%|██████████| 12/12 [00:01<00:00,  6.54it/s]\n"
          ]
        },
        {
          "name": "stdout",
          "output_type": "stream",
          "text": [
            "Val loss 0.6969431390364965 accuracy 0.7759562841530054\n",
            "Epoch 5/10\n"
          ]
        },
        {
          "name": "stderr",
          "output_type": "stream",
          "text": [
            "100%|██████████| 239/239 [01:22<00:00,  2.91it/s]\n"
          ]
        },
        {
          "name": "stdout",
          "output_type": "stream",
          "text": [
            "Train loss 0.4369581973172381 accuracy 0.8621501438660737\n"
          ]
        },
        {
          "name": "stderr",
          "output_type": "stream",
          "text": [
            "100%|██████████| 12/12 [00:01<00:00,  6.67it/s]\n"
          ]
        },
        {
          "name": "stdout",
          "output_type": "stream",
          "text": [
            "Val loss 0.8113092333078384 accuracy 0.7540983606557377\n",
            "Early stopping\n",
            "Training klue/roberta-large...\n"
          ]
        },
        {
          "name": "stderr",
          "output_type": "stream",
          "text": [
            "Some weights of RobertaForSequenceClassification were not initialized from the model checkpoint at klue/roberta-large and are newly initialized: ['classifier.dense.bias', 'classifier.dense.weight', 'classifier.out_proj.bias', 'classifier.out_proj.weight']\n",
            "You should probably TRAIN this model on a down-stream task to be able to use it for predictions and inference.\n"
          ]
        },
        {
          "name": "stdout",
          "output_type": "stream",
          "text": [
            "Epoch 1/10\n"
          ]
        },
        {
          "name": "stderr",
          "output_type": "stream",
          "text": [
            "100%|██████████| 239/239 [04:29<00:00,  1.13s/it]\n"
          ]
        },
        {
          "name": "stdout",
          "output_type": "stream",
          "text": [
            "Train loss 1.177391071449264 accuracy 0.5702328014648181\n"
          ]
        },
        {
          "name": "stderr",
          "output_type": "stream",
          "text": [
            "100%|██████████| 12/12 [00:05<00:00,  2.36it/s]\n"
          ]
        },
        {
          "name": "stdout",
          "output_type": "stream",
          "text": [
            "Val loss 0.6953309712310632 accuracy 0.7759562841530054\n",
            "Epoch 2/10\n"
          ]
        },
        {
          "name": "stderr",
          "output_type": "stream",
          "text": [
            "100%|██████████| 239/239 [04:29<00:00,  1.13s/it]\n"
          ]
        },
        {
          "name": "stdout",
          "output_type": "stream",
          "text": [
            "Train loss 0.6845080481538214 accuracy 0.7802772691603452\n"
          ]
        },
        {
          "name": "stderr",
          "output_type": "stream",
          "text": [
            "100%|██████████| 12/12 [00:05<00:00,  2.33it/s]\n"
          ]
        },
        {
          "name": "stdout",
          "output_type": "stream",
          "text": [
            "Val loss 0.7294838589926561 accuracy 0.7704918032786885\n",
            "Epoch 3/10\n"
          ]
        },
        {
          "name": "stderr",
          "output_type": "stream",
          "text": [
            "100%|██████████| 239/239 [04:29<00:00,  1.13s/it]\n"
          ]
        },
        {
          "name": "stdout",
          "output_type": "stream",
          "text": [
            "Train loss 0.4938543404464193 accuracy 0.8388699973842532\n"
          ]
        },
        {
          "name": "stderr",
          "output_type": "stream",
          "text": [
            "100%|██████████| 12/12 [00:05<00:00,  2.37it/s]\n"
          ]
        },
        {
          "name": "stdout",
          "output_type": "stream",
          "text": [
            "Val loss 0.6259440618256727 accuracy 0.7814207650273224\n",
            "Epoch 4/10\n"
          ]
        },
        {
          "name": "stderr",
          "output_type": "stream",
          "text": [
            "100%|██████████| 239/239 [04:29<00:00,  1.13s/it]\n"
          ]
        },
        {
          "name": "stdout",
          "output_type": "stream",
          "text": [
            "Train loss 0.40090143037609227 accuracy 0.8561339262359403\n"
          ]
        },
        {
          "name": "stderr",
          "output_type": "stream",
          "text": [
            "100%|██████████| 12/12 [00:05<00:00,  2.37it/s]\n"
          ]
        },
        {
          "name": "stdout",
          "output_type": "stream",
          "text": [
            "Val loss 0.7979899160563946 accuracy 0.7431693989071039\n",
            "Epoch 5/10\n"
          ]
        },
        {
          "name": "stderr",
          "output_type": "stream",
          "text": [
            "100%|██████████| 239/239 [04:29<00:00,  1.13s/it]\n"
          ]
        },
        {
          "name": "stdout",
          "output_type": "stream",
          "text": [
            "Train loss 0.34227998471316184 accuracy 0.8854302903478942\n"
          ]
        },
        {
          "name": "stderr",
          "output_type": "stream",
          "text": [
            "100%|██████████| 12/12 [00:05<00:00,  2.34it/s]\n"
          ]
        },
        {
          "name": "stdout",
          "output_type": "stream",
          "text": [
            "Val loss 0.9625139124691486 accuracy 0.7377049180327869\n",
            "Early stopping\n",
            "앙상블 예측 실행\n"
          ]
        },
        {
          "name": "stderr",
          "output_type": "stream",
          "text": [
            "100%|██████████| 23/23 [00:03<00:00,  6.84it/s]\n",
            "100%|██████████| 23/23 [00:09<00:00,  2.33it/s]\n"
          ]
        },
        {
          "name": "stdout",
          "output_type": "stream",
          "text": [
            "Ensemble Accuracy: 0.7650273224043715\n",
            "Ensemble F1 Score: 0.6925417795995291\n"
          ]
        },
        {
          "data": {
            "image/png": "[encoded data removed]",
            "text/plain": [
              "<Figure size 1000x1000 with 2 Axes>"
            ]
          },
          "metadata": {},
          "output_type": "display_data"
        }
      ],
      "source": [
        "print(\"GPU 메모리 해제\")\n",
        "torch.cuda.empty_cache()\n",
        "\n",
        "print(\"CUDA 정보\")\n",
        "print(f\"CUDA available: {torch.cuda.is_available()}\")\n",
        "print(f\"CUDA version: {torch.version.cuda}\")\n",
        "# 모델 및 데이터로더 설정\n",
        "model_names = ['klue/roberta-base', 'klue/roberta-large']\n",
        "num_epochs = 10\n",
        "batch_size = 16\n",
        "max_len = 128\n",
        "\n",
        "trained_models = []\n",
        "tokenizers = []\n",
        "\n",
        "for model_name in model_names:\n",
        "    print(f\"Training {model_name}...\")\n",
        "    tokenizer = AutoTokenizer.from_pretrained(model_name)  # 정확한 repo_id 사용\n",
        "    train_loader = create_data_loader(balanced_df, tokenizer, max_len, batch_size)\n",
        "    test_loader = create_data_loader(test_df, tokenizer, max_len, batch_size)\n",
        "    model = train_model(train_loader, test_loader, model_name, num_epochs, batch_size)\n",
        "    trained_models.append(model)\n",
        "    tokenizers.append(tokenizer)\n",
        "\n",
        "print(\"앙상블 예측 실행\")\n",
        "device = torch.device(\"cuda\" if torch.cuda.is_available() else \"cpu\")\n",
        "ensemble_preds = ensemble_predict_weighted(trained_models, tokenizers, test_df, device)\n",
        "\n",
        "# 결과 평가\n",
        "accuracy = accuracy_score(test_df.section, ensemble_preds)\n",
        "f1 = f1_score(test_df.section, ensemble_preds, average='macro')\n",
        "\n",
        "print(f'Ensemble Accuracy: {accuracy}')\n",
        "print(f'Ensemble F1 Score: {f1}')\n",
        "\n",
        "# 혼동 행렬 시각화\n",
        "cm = confusion_matrix(test_df.section, ensemble_preds)\n",
        "plt.figure(figsize=(10,10))\n",
        "sns.heatmap(cm, annot=True, fmt='d', cmap='Blues')\n",
        "plt.xlabel('Predicted')\n",
        "plt.ylabel('Actual')\n",
        "plt.show()\n"
      ]
    },
    {
      "cell_type": "code",
      "execution_count": null,
      "metadata": {
        "colab": {
          "base_uri": "https://localhost:8080/"
        },
        "id": "6NnG6x3HJTM-",
        "outputId": "56d767c1-0bcc-4937-aaa3-207683ce2a5d"
      },
      "outputs": [
        {
          "name": "stdout",
          "output_type": "stream",
          "text": [
            "기사: 원주시, 취약층 여름나기 점검 완료\n",
            "예측된 섹션: 세계\n",
            "실제 섹션: 사회\n",
            "\n",
            "기사: 유엔 “가자 인도주의 구역 대피령에 하루 새 15만명 탈출”\n",
            "예측된 섹션: 세계\n",
            "실제 섹션: 세계\n",
            "\n",
            "기사: 野, 교사 업무 ‘수업·연구’에 한정… 행정직원들 반발\n",
            "예측된 섹션: 세계\n",
            "실제 섹션: 사회\n",
            "\n",
            "기사: 독일 기후단체 '접착제 시위' 공항 3시간 마비\n",
            "예측된 섹션: 세계\n",
            "실제 섹션: 세계\n",
            "\n",
            "기사: 北 오물풍선에 대통령실도 뚫려… 軍, 대북전광판 재설치 할수도\n",
            "예측된 섹션: 세계\n",
            "실제 섹션: 정치\n",
            "\n",
            "기사: [Biz & Now] 농심, 파리에 신라면 팝업스토어 오픈\n",
            "예측된 섹션: 세계\n",
            "실제 섹션: 경제\n",
            "\n",
            "기사: 위메프 피해자 본사 항의…새벽 3시 일부 환불\n",
            "예측된 섹션: 세계\n",
            "실제 섹션: 사회\n",
            "\n",
            "기사: 평창군, 2024 평창더위사냥축제 준비 한창\n",
            "예측된 섹션: 세계\n",
            "실제 섹션: 사회\n",
            "\n",
            "기사: 이재명 \"탄핵, 국민이 결정할 사안…대통령 되면 개헌하려 했다\"\n",
            "예측된 섹션: 세계\n",
            "실제 섹션: 정치\n",
            "\n",
            "기사: 김민기 발인…‘아침이슬’과 함께 옛 학전에 마지막 인사\n",
            "예측된 섹션: 세계\n",
            "실제 섹션: 생활/문화\n",
            "\n"
          ]
        }
      ],
      "source": [
        "sect_dic = {0: \"정치\", 1: \"경제\", 2: \"사회\", 3: \"생활/문화\", 4: \"세계\", 5: \"IT/과학\"}\n",
        "\n",
        "for i in range(10):  # 처음 10개 예측 결과 출력\n",
        "    print(f\"기사: {test_df.iloc[i].title}\")\n",
        "    print(f\"예측된 섹션: {sect_dic[ensemble_preds[i]]}\")\n",
        "    print(f\"실제 섹션: {sect_dic[test_df.section.iloc[i]]}\")\n",
        "    print()"
      ]
    },
    {
      "cell_type": "code",
      "execution_count": null,
      "metadata": {
        "id": "rx1kT2V60bRZ"
      },
      "outputs": [],
      "source": []
    },
    {
      "cell_type": "code",
      "execution_count": null,
      "metadata": {
        "colab": {
          "base_uri": "https://localhost:8080/"
        },
        "id": "sAJiy2KatifI",
        "outputId": "efbf486f-5ea0-4732-ed07-2d412caadca8"
      },
      "outputs": [
        {
          "name": "stdout",
          "output_type": "stream",
          "text": [
            "GPU 메모리 초기화 완료\n"
          ]
        }
      ],
      "source": [
        "import torch\n",
        "import gc\n",
        "\n",
        "def gpu_memory_reset():\n",
        "    # 현재 GPU 장치 설정\n",
        "    device = torch.device(\"cuda\" if torch.cuda.is_available() else \"cpu\")\n",
        "\n",
        "    # GPU 캐시 초기화\n",
        "    torch.cuda.empty_cache()\n",
        "\n",
        "    # Python의 garbage collector 호출\n",
        "    gc.collect()\n",
        "\n",
        "    # PyTorch CUDA 캐시 초기화\n",
        "    if device.type == 'cuda':\n",
        "        torch.cuda.empty_cache()\n",
        "        torch.cuda.ipc_collect()\n",
        "\n",
        "# GPU 메모리 초기화 함수 호출\n",
        "gpu_memory_reset()\n",
        "\n",
        "print(\"GPU 메모리 초기화 완료\")\n"
      ]
    },
    {
      "cell_type": "code",
      "execution_count": null,
      "metadata": {
        "id": "jYVOP1Zz3iXm"
      },
      "outputs": [],
      "source": [
        "\n",
        "# 새로운 데이터 파일 로드\n",
        "new_data_path = '/content/naver_news_content_20240722.xlsx'\n",
        "new_data_df = pd.read_excel(new_data_path)\n",
        "\n",
        "# Combine the title and content for prediction\n",
        "new_data_df['text'] = new_data_df['뉴스제목'] + ' ' + new_data_df['본문']\n",
        "new_data_df = new_data_df[['뉴스제목', '본문', 'text']]  # Include 뉴스제목 and 본\n",
        "\n",
        "# 디바이스 설정 (GPU 사용 가능 여부 확인)\n",
        "device = torch.device(\"cuda\" if torch.cuda.is_available() else \"cpu\")\n"
      ]
    },
    {
      "cell_type": "code",
      "execution_count": null,
      "metadata": {
        "colab": {
          "base_uri": "https://localhost:8080/"
        },
        "id": "NpbDWcO03llY",
        "outputId": "34d1ed1d-5d22-4a63-e27f-d85080dc9702"
      },
      "outputs": [
        {
          "name": "stderr",
          "output_type": "stream",
          "text": [
            "Some weights of RobertaForSequenceClassification were not initialized from the model checkpoint at klue/roberta-base and are newly initialized: ['classifier.dense.bias', 'classifier.dense.weight', 'classifier.out_proj.bias', 'classifier.out_proj.weight']\n",
            "You should probably TRAIN this model on a down-stream task to be able to use it for predictions and inference.\n",
            "Some weights of RobertaForSequenceClassification were not initialized from the model checkpoint at klue/roberta-large and are newly initialized: ['classifier.dense.bias', 'classifier.dense.weight', 'classifier.out_proj.bias', 'classifier.out_proj.weight']\n",
            "You should probably TRAIN this model on a down-stream task to be able to use it for predictions and inference.\n"
          ]
        }
      ],
      "source": [
        "# 모델 이름 정의\n",
        "model_names = ['klue/roberta-base', 'klue/roberta-large']\n",
        "trained_models = []\n",
        "tokenizers = []\n",
        "\n",
        "# 모델과 토크나이저 로드\n",
        "for model_name in model_names:\n",
        "    tokenizer = AutoTokenizer.from_pretrained(model_name)\n",
        "    model = AutoModelForSequenceClassification.from_pretrained(model_name, num_labels=6)\n",
        "    model = model.to(device)\n",
        "    trained_models.append(model)\n",
        "    tokenizers.append(tokenizer)"
      ]
    },
    {
      "cell_type": "code",
      "execution_count": null,
      "metadata": {
        "id": "zVGxl63y3oTy"
      },
      "outputs": [],
      "source": [
        "# 새로운 데이터에 대한 데이터셋 클래스 정의\n",
        "class NewsDataset(Dataset):\n",
        "    def __init__(self, texts, labels, tokenizer, max_len):\n",
        "        self.texts = texts\n",
        "        self.labels = labels\n",
        "        self.tokenizer = tokenizer\n",
        "        self.max_len = max_len\n",
        "\n",
        "    def __len__(self):\n",
        "        return len(self.texts)\n",
        "\n",
        "    def __getitem__(self, idx):\n",
        "        text = str(self.texts[idx])\n",
        "        label = int(self.labels[idx])\n",
        "\n",
        "        encoding = self.tokenizer.encode_plus(\n",
        "            text,\n",
        "            add_special_tokens=True,\n",
        "            max_length=self.max_len,\n",
        "            return_token_type_ids=False,\n",
        "            padding='max_length',\n",
        "            truncation=True,\n",
        "            return_attention_mask=True,\n",
        "            return_tensors='pt',\n",
        "        )\n",
        "\n",
        "        return {\n",
        "            'text': text,\n",
        "            'input_ids': encoding['input_ids'].flatten(),\n",
        "            'attention_mask': encoding['attention_mask'].flatten(),\n",
        "            'labels': torch.tensor(label, dtype=torch.long)\n",
        "        }"
      ]
    },
    {
      "cell_type": "code",
      "execution_count": null,
      "metadata": {
        "id": "XIVc3WS23sI_"
      },
      "outputs": [],
      "source": [
        "# 새로운 데이터를 위한 데이터 로더 생성 함수\n",
        "def create_new_data_loader(df, tokenizer, max_len, batch_size):\n",
        "    ds = NewsDataset(\n",
        "        texts=df['text'].to_numpy(),  # 데이터프레임에서 텍스트 열 사용\n",
        "        labels=[0]*len(df),  # 더미 라벨 사용\n",
        "        tokenizer=tokenizer,\n",
        "        max_len=max_len\n",
        "    )\n",
        "    return DataLoader(ds, batch_size=batch_size, num_workers=8)  #cpu 8대인 가상 공간에서 진행 중\n"
      ]
    },
    {
      "cell_type": "code",
      "execution_count": null,
      "metadata": {
        "id": "YBUJ97MH3zJx"
      },
      "outputs": [],
      "source": [
        "# 새로운 데이터를 데이터 로더에 로드\n",
        "new_data_loaders = [create_new_data_loader(new_data_df, tokenizer, max_len=128, batch_size=16) for tokenizer in tokenizers]\n"
      ]
    },
    {
      "cell_type": "code",
      "execution_count": null,
      "metadata": {
        "id": "H_3f2SlO31Zx"
      },
      "outputs": [],
      "source": [
        "# 예측 수행 함수\n",
        "def predict(models, data_loaders, device):\n",
        "    all_predictions = []\n",
        "    for model, data_loader in zip(models, data_loaders):\n",
        "        model.eval()\n",
        "        predictions = []\n",
        "        with torch.no_grad():\n",
        "            for d in data_loader:\n",
        "                input_ids = d[\"input_ids\"].to(device)\n",
        "                attention_mask = d[\"attention_mask\"].to(device)\n",
        "                outputs = model(input_ids=input_ids, attention_mask=attention_mask)\n",
        "                predictions.extend(torch.argmax(outputs.logits, dim=1).cpu().numpy())\n",
        "        all_predictions.append(predictions)\n",
        "    return all_predictions\n",
        "\n",
        "# 예측 결과 얻기\n",
        "all_preds = predict(trained_models, new_data_loaders, device)\n"
      ]
    },
    {
      "cell_type": "code",
      "execution_count": null,
      "metadata": {
        "id": "xanDjmaW38LY"
      },
      "outputs": [],
      "source": [
        "# 예측 결과 얻기\n",
        "all_preds = predict(trained_models, new_data_loaders, device)"
      ]
    },
    {
      "cell_type": "code",
      "execution_count": null,
      "metadata": {
        "id": "0ltahP-J4AHk"
      },
      "outputs": [],
      "source": [
        "# 예측 결과 앙상블\n",
        "from scipy.stats import mode\n",
        "ensemble_preds = mode(all_preds, axis=0)[0].flatten()\n",
        "new_data_df['predicted_label'] = ensemble_preds\n"
      ]
    },
    {
      "cell_type": "code",
      "execution_count": null,
      "metadata": {
        "id": "wWd7QmW94FOR"
      },
      "outputs": [],
      "source": [
        "# 라벨을 섹션 이름으로 매핑\n",
        "sect_dic = {0: \"정치\", 1: \"경제\", 2: \"사회\", 3: \"생활/문화\", 4: \"세계\", 5: \"IT/과학\"}\n",
        "new_data_df['predicted_section'] = new_data_df['predicted_label'].map(sect_dic)\n",
        "\n",
        "# 라벨링된 데이터를 엑셀 파일로 저장\n",
        "output_path = '/content/labeled_news_data.xlsx'\n",
        "new_data_df.to_excel(output_path, index=False)"
      ]
    },
    {
      "cell_type": "code",
      "execution_count": null,
      "metadata": {
        "colab": {
          "base_uri": "https://localhost:8080/"
        },
        "id": "nvsi0v268kZ3",
        "outputId": "eadea532-ec06-44c1-de71-8837ffd87746"
      },
      "outputs": [
        {
          "name": "stdout",
          "output_type": "stream",
          "text": [
            "Saved 경제 data to /content/labeled_news_data/labeled_news_data_경제.xlsx\n",
            "Saved 생활/문화 data to /content/labeled_news_data/labeled_news_data_생활_문화.xlsx\n",
            "/content/labeled_news_data/labeled_news_data_생활_문화.xlsx\n",
            "/content/labeled_news_data/labeled_news_data_경제.xlsx\n",
            "/content/labeled_news_data/.ipynb_checkpoints\n"
          ]
        }
      ],
      "source": [
        "import os\n",
        "import re\n",
        "\n",
        "# 라벨링된 데이터 파일 로드\n",
        "labeled_data_path = '/content/labeled_news_data.xlsx'\n",
        "labeled_data_df = pd.read_excel(labeled_data_path)\n",
        "\n",
        "# 저장할 디렉토리 경로 설정\n",
        "output_dir = '/content/labeled_news_data/'\n",
        "\n",
        "# 디렉토리가 존재하지 않으면 생성\n",
        "os.makedirs(output_dir, exist_ok=True)\n",
        "\n",
        "def safe_filename(filename):\n",
        "    # 파일 이름에서 안전하지 않은 문자를 제거\n",
        "    return re.sub(r'[^a-zA-Z0-9가-힣]', '_', filename)\n",
        "\n",
        "for section in sections:\n",
        "    section_df = labeled_data_df[labeled_data_df['predicted_section'] == section]\n",
        "    safe_section = safe_filename(section)\n",
        "    section_filename = os.path.join(output_dir, f'labeled_news_data_{safe_section}.xlsx')\n",
        "    section_df[['뉴스제목', '본문', 'predicted_section']].to_excel(section_filename, index=False)  # Include the required columns\n",
        "    print(f'Saved {section} data to {section_filename}')\n",
        "# 저장된 파일 리스트 출력\n",
        "saved_files = [os.path.join(output_dir, f) for f in os.listdir(output_dir)]\n",
        "for file in saved_files:\n",
        "    print(file)\n",
        "\n"
      ]
    }
  ],
  "metadata": {
    "accelerator": "GPU",
    "colab": {
      "gpuType": "T4",
      "machine_shape": "hm",
      "provenance": [],
      "include_colab_link": true
    },
    "kernelspec": {
      "display_name": "Python 3",
      "name": "python3"
    },
    "language_info": {
      "name": "python"
    }
  },
  "nbformat": 4,
  "nbformat_minor": 0
}